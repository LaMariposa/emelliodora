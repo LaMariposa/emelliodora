{
 "cells": [
  {
   "cell_type": "code",
   "execution_count": null,
   "metadata": {
    "collapsed": false
   },
   "outputs": [],
   "source": [
    "#vcf input file\n",
    "vcffile=\"final.recode.vcf\"\n",
    "skipr=5211  #count header lines in command line (grep -c \"##\" batch_1.vcf)\n",
    "skipc=9  #non sample columns\n",
    "\n",
    "#samples \"database\"\n",
    "samplefile=\"/home/megan/megan/research/eucalyptus/eucalyptus_data/Emelliodora_PlantsSamples.csv\"\n",
    "accessionfile=\"/home/megan/megan/research/eucalyptus/eucalyptus_data/Emelliodora_Accessions.csv\""
   ]
  },
  {
   "cell_type": "code",
   "execution_count": null,
   "metadata": {
    "collapsed": false
   },
   "outputs": [],
   "source": [
    "%load_ext rpy2.ipython"
   ]
  },
  {
   "cell_type": "markdown",
   "metadata": {},
   "source": [
    "# check for outliers"
   ]
  },
  {
   "cell_type": "code",
   "execution_count": null,
   "metadata": {
    "collapsed": false,
    "scrolled": false
   },
   "outputs": [],
   "source": [
    "%%R -i vcffile,skipr,skipc -o genos.gi,samplenames\n",
    "\n",
    "library(adegenet)\n",
    "\n",
    "#read in vcf, skipping ##header rows and removing other junk\n",
    "vcf=read.delim(vcffile, sep=\"\\t\", header=T, skip=skipr)\n",
    "vcf=vcf[c(-skipc:-1)] #remove non sample columns\n",
    "genos=apply(vcf,2,substr,1,3)  #get just genotypes\n",
    "genos=t(genos)  #transpose \n",
    "#row.names(genos)=substr(row.names(genos),9,14)  #get just sample ID\n",
    "samplenames=rownames(genos)\n",
    "genos[1:5,1:10]  #print bit to check its ok \n",
    "dim(genos)  #print number of samples and loci\n",
    "#format for input into genid object\n",
    "genos[genos==\"./.\"]=NA\n",
    "#convert to genid object\n",
    "genos.gi <- df2genind(genos,sep=\"/\",NA.char=NA)\n",
    "genos.gi"
   ]
  },
  {
   "cell_type": "code",
   "execution_count": null,
   "metadata": {
    "collapsed": false
   },
   "outputs": [],
   "source": [
    "%%R -i genos.gi,samplenames\n",
    "\n",
    "#preliminary pca of genetic distance (to find additional outliers)\n",
    "genos.dist=dist(genos.gi)\n",
    "pcoa.genos=dudi.pco(genos.dist,scannf = F, nf = 3)\n",
    "percent_var=round(100*pcoa.genos$eig/sum(pcoa.genos$eig),1)\n",
    "#pdf(\"emellb_pca_280.pdf\")\n",
    "plot(pcoa.genos$li[,1:2], pch=\"\",\n",
    "   xlab = paste(\"PCOA axis 1 (\", percent_var[1],\"%)\"), ylab = paste(\"PCOA axis 2 (\", percent_var[2],\"%)\"))\n",
    "  #  xlim=c(-10,10),ylim=c(-15,10))\n",
    "text(pcoa.genos$li[,1:2], label=samplenames) \n",
    "#     label=samples$SampleName, cex = .6) #add names\n",
    "#dev.off()"
   ]
  },
  {
   "cell_type": "markdown",
   "metadata": {},
   "source": [
    "# summarize data (with outliers removed)"
   ]
  },
  {
   "cell_type": "code",
   "execution_count": null,
   "metadata": {
    "collapsed": false
   },
   "outputs": [],
   "source": [
    "%%script env vcffile=\"$vcffile\" bash\n",
    "\n",
    "### PUT SAMPLE ID's HERE FOR OUTLIERS FOR REMOVAL ###\n",
    "remove=\"--remove-indv S45093 --remove-indv S45095 --remove-indv S45193 --remove-indv S45194 --remove-indv S45195\"\n",
    "### PUT LOCI ID'S HERE FOR REMOVAL ###\n",
    "echo Chr08 1031291 > bad.loci\n",
    "\n",
    "vcftools --vcf $vcffile --recode --out final.core $remove --max-missing 0.4 --exclude-positions bad.loci --maf .000001\n",
    "    #max-missing is 1-threshold\n",
    "    #bad.loci is a file with chrom pos of loci to be removed\n",
    "    #maf removes fixed loci\n",
    "\n",
    "vcftools --vcf final.core.recode.vcf --depth\n",
    "vcftools --vcf final.core.recode.vcf --site-depth\n",
    "vcftools --vcf final.core.recode.vcf --site-mean-depth\n",
    "vcftools --vcf final.core.recode.vcf --missing-indv\n",
    "vcftools --vcf final.core.recode.vcf --missing-site\n",
    "vcftools --vcf final.core.recode.vcf --het\n",
    "vcftools --vcf final.core.recode.vcf --hardy\n",
    "vcftools --vcf final.core.recode.vcf --freq\n",
    "awk '{print $6}' out.frq | awk -F\":\" '{print $2}' > out.maf #generate maf file\n",
    "\n",
    "mv final.core.recode.vcf final.vcf"
   ]
  },
  {
   "cell_type": "code",
   "execution_count": null,
   "metadata": {
    "collapsed": false,
    "scrolled": false
   },
   "outputs": [],
   "source": [
    "%%R\n",
    "\n",
    "#look at samples\n",
    "idepth=read.delim(\"out.idepth\")\n",
    "hist(idepth$MEAN_DEPTH, main=\"mean locus depth per individual\", xlab=\"mean depth\")\n",
    "imiss=read.delim(\"out.imiss\")\n",
    "hist(imiss$F_MISS, main=\"missingness per individual\", xlab=\"proportion missing\")\n",
    "plot(1-imiss$F_MISS, idepth$MEAN_DEPTH, main=\"by individual\", \n",
    "     xlab=\"proportion loci genotyped\", ylab=\"mean depth per locus\")\n",
    "\n",
    "#sample heterozygosity\n",
    "heteroz=read.delim(\"out.het\")\n",
    "hist(heteroz$F, main=\"sample inbreeding coefficient (F)\", xlab=\"F\")\n",
    "\n",
    "#look at loci\n",
    "ldepthtot=read.delim(\"out.ldepth\")\n",
    "ldepth=read.delim(\"out.ldepth.mean\")\n",
    "hist(ldepth$MEAN_DEPTH, main=\"mean individual depth per locus\", xlab=\"mean depth\")\n",
    "lmiss=read.delim(\"out.lmiss\")\n",
    "hist(lmiss$F_MISS, main=\"missingness per locus\", xlab=\"proportion missing\")\n",
    "plot(1-lmiss$F_MISS, ldepthtot$SUM_DEPTH, main=\"by locus\", \n",
    "     xlab=\"proportion individuals genotyped\", ylab=\"total locus depth\")\n",
    "\n",
    "#maf\n",
    "maf=scan(\"out.maf\")\n",
    "hist(maf,breaks=100, main=\"alternate allele frequency\", xlab=\"allele frequency\")\n",
    "\n",
    "#heterozygosity, hwe\n",
    "hwe=read.delim(\"out.hwe\")\n",
    "plot(maf,hwe$P_HWE, xlab=\"alternate allele frequency\", ylab=\"HWE (p-value)\")\n",
    "hist(hwe$P_HWE, main=\"HWE\", xlab=\"p-value\")\n",
    "hist(hwe$P_HET_DEFICIT, main=\"heterozygote deficit\", xlab=\"p-value\")\n",
    "hist(hwe$P_HET_EXCESS, main=\"heterozygote excess\", xlab=\"p-value\")\n",
    "hwe=read.delim(\"out.hwe\")\n",
    "obs_hwe=data.frame(do.call('rbind', strsplit(as.character(hwe$OBS.HOM1.HET.HOM2.),'/',fixed=TRUE)))\n",
    "obs_hwe=cbind(hwe$CHR,hwe$POS,obs_hwe)\n",
    "colnames(obs_hwe)=c(\"CHR\",\"POS\",\"homo1\",\"hets\",\"homo2\")\n",
    "obs_hwe$homo1=as.numeric(as.character(obs_hwe$homo1))\n",
    "obs_hwe$hets=as.numeric(as.character(obs_hwe$hets))\n",
    "obs_hwe$homo2=as.numeric(as.character(obs_hwe$homo2))\n",
    "obs_hwe$prop_homo1=as.numeric(as.character(obs_hwe$homo1))/(obs_hwe$homo1+obs_hwe$hets+obs_hwe$homo2)\n",
    "obs_hwe$prop_hets=as.numeric(as.character(obs_hwe$hets))/(obs_hwe$homo1+obs_hwe$hets+obs_hwe$homo2)\n",
    "obs_hwe$prop_homo2=as.numeric(as.character(obs_hwe$homo2))/(obs_hwe$homo1+obs_hwe$hets+obs_hwe$homo2)\n",
    "hist(obs_hwe$prop_homo1, main=\"proportion of homozygous for reference allele\", xlab=\"proportion\")\n",
    "hist(obs_hwe$prop_hets, main=\"proportion of heterozygotes\", xlab=\"proportion\")\n",
    "hist(obs_hwe$prop_homo2, main=\"proportion of homozygous for alternate allele\", xlab=\"proportion\")\n",
    "exp_hwe=data.frame(do.call('rbind', strsplit(as.character(hwe$E.HOM1.HET.HOM2.),'/',fixed=TRUE)))\n",
    "colnames(exp_hwe)=c(\"homo1\",\"hets\",\"homo2\")\n",
    "exp_hwe$hets=as.numeric(as.character(exp_hwe$hets))\n",
    "f=(exp_hwe$hets-obs_hwe$hets)/(exp_hwe$hets)\n",
    "hist(f, main=\"locus F ((exp-obs)/exp)\")\n",
    "\n",
    "#matrix of counts of homozygotes (ref/alt) and heterozygotes\n",
    "homohet_sum=matrix(data=NA, nrow=4, ncol=3)\n",
    "rownames(homohet_sum)=c(\"none\",\"one\",\"two or less\",\"more than two\")\n",
    "colnames(homohet_sum)=c(\"homo_ref\",\"het\",\"homo_alt\")\n",
    "homohet_sum[1,1]=sum(obs_hwe$homo1==0)\n",
    "homohet_sum[1,2]=sum(obs_hwe$hets==0)\n",
    "homohet_sum[1,3]=sum(obs_hwe$homo2==0)\n",
    "homohet_sum[2,1]=sum(obs_hwe$homo1==1)\n",
    "homohet_sum[2,2]=sum(obs_hwe$hets==1)\n",
    "homohet_sum[2,3]=sum(obs_hwe$homo2==1)\n",
    "homohet_sum[3,1]=sum(obs_hwe$homo1<=2)\n",
    "homohet_sum[3,2]=sum(obs_hwe$hets<=2)\n",
    "homohet_sum[3,3]=sum(obs_hwe$homo2<=2)\n",
    "homohet_sum[4,1]=sum(obs_hwe$homo1>2)\n",
    "homohet_sum[4,2]=sum(obs_hwe$hets>2)\n",
    "homohet_sum[4,3]=sum(obs_hwe$homo2>2)\n",
    "print(homohet_sum)"
   ]
  }
 ],
 "metadata": {
  "kernelspec": {
   "display_name": "Python 2",
   "language": "python",
   "name": "python2"
  },
  "language_info": {
   "codemirror_mode": {
    "name": "ipython",
    "version": 2
   },
   "file_extension": ".py",
   "mimetype": "text/x-python",
   "name": "python",
   "nbconvert_exporter": "python",
   "pygments_lexer": "ipython2",
   "version": "2.7.6"
  }
 },
 "nbformat": 4,
 "nbformat_minor": 0
}
